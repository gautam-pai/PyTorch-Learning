{
  "cells": [
    {
      "cell_type": "code",
      "execution_count": null,
      "metadata": {
        "id": "3jXBG0DUax3I",
        "outputId": "dfe4e578-4903-419d-802e-88ff69fadbd4"
      },
      "outputs": [
        {
          "name": "stdout",
          "output_type": "stream",
          "text": [
            "Defaulting to user installation because normal site-packages is not writeable"
          ]
        },
        {
          "name": "stderr",
          "output_type": "stream",
          "text": [
            "  WARNING: The script isympy.exe is installed in 'C:\\Users\\gauta\\AppData\\Roaming\\Python\\Python312\\Scripts' which is not on PATH.\n",
            "  Consider adding this directory to PATH or, if you prefer to suppress this warning, use --no-warn-script-location.\n",
            "  WARNING: The scripts convert-caffe2-to-onnx.exe, convert-onnx-to-caffe2.exe, torchfrtrace.exe and torchrun.exe are installed in 'C:\\Users\\gauta\\AppData\\Roaming\\Python\\Python312\\Scripts' which is not on PATH.\n",
            "  Consider adding this directory to PATH or, if you prefer to suppress this warning, use --no-warn-script-location.\n"
          ]
        },
        {
          "name": "stdout",
          "output_type": "stream",
          "text": [
            "\n",
            "Collecting torch\n",
            "  Downloading torch-2.5.1-cp312-cp312-win_amd64.whl.metadata (28 kB)\n",
            "Requirement already satisfied: filelock in d:\\appinstallationbin\\anaconda\\newfolder\\lib\\site-packages (from torch) (3.13.1)\n",
            "Requirement already satisfied: typing-extensions>=4.8.0 in c:\\users\\gauta\\appdata\\roaming\\python\\python312\\site-packages (from torch) (4.12.2)\n",
            "Requirement already satisfied: networkx in d:\\appinstallationbin\\anaconda\\newfolder\\lib\\site-packages (from torch) (3.2.1)\n",
            "Requirement already satisfied: jinja2 in d:\\appinstallationbin\\anaconda\\newfolder\\lib\\site-packages (from torch) (3.1.4)\n",
            "Requirement already satisfied: fsspec in d:\\appinstallationbin\\anaconda\\newfolder\\lib\\site-packages (from torch) (2024.3.1)\n",
            "Requirement already satisfied: setuptools in d:\\appinstallationbin\\anaconda\\newfolder\\lib\\site-packages (from torch) (69.5.1)\n",
            "Collecting sympy==1.13.1 (from torch)\n",
            "  Downloading sympy-1.13.1-py3-none-any.whl.metadata (12 kB)\n",
            "Requirement already satisfied: mpmath<1.4,>=1.1.0 in d:\\appinstallationbin\\anaconda\\newfolder\\lib\\site-packages (from sympy==1.13.1->torch) (1.3.0)\n",
            "Requirement already satisfied: MarkupSafe>=2.0 in d:\\appinstallationbin\\anaconda\\newfolder\\lib\\site-packages (from jinja2->torch) (2.1.3)\n",
            "Downloading torch-2.5.1-cp312-cp312-win_amd64.whl (203.0 MB)\n",
            "   ---------------------------------------- 0.0/203.0 MB ? eta -:--:--\n",
            "   ---------------------------------------- 0.1/203.0 MB 2.6 MB/s eta 0:01:17\n",
            "   ---------------------------------------- 0.4/203.0 MB 4.5 MB/s eta 0:00:46\n",
            "   ---------------------------------------- 0.6/203.0 MB 5.7 MB/s eta 0:00:36\n",
            "   ---------------------------------------- 1.0/203.0 MB 6.5 MB/s eta 0:00:32\n",
            "   ---------------------------------------- 1.4/203.0 MB 7.0 MB/s eta 0:00:29\n",
            "   ---------------------------------------- 2.0/203.0 MB 7.8 MB/s eta 0:00:26\n",
            "   ---------------------------------------- 2.5/203.0 MB 8.9 MB/s eta 0:00:23\n",
            "    --------------------------------------- 3.1/203.0 MB 9.5 MB/s eta 0:00:22\n",
            "    --------------------------------------- 3.7/203.0 MB 10.4 MB/s eta 0:00:20\n",
            "    --------------------------------------- 4.5/203.0 MB 11.0 MB/s eta 0:00:19\n",
            "   - -------------------------------------- 5.3/203.0 MB 12.1 MB/s eta 0:00:17\n",
            "   - -------------------------------------- 6.2/203.0 MB 12.7 MB/s eta 0:00:16\n",
            "   - -------------------------------------- 6.9/203.0 MB 12.9 MB/s eta 0:00:16\n",
            "   - -------------------------------------- 8.6/203.0 MB 14.4 MB/s eta 0:00:14\n",
            "   -- ------------------------------------- 10.2/203.0 MB 15.9 MB/s eta 0:00:13\n",
            "   -- ------------------------------------- 11.7/203.0 MB 21.1 MB/s eta 0:00:10\n",
            "   -- ------------------------------------- 13.0/203.0 MB 24.2 MB/s eta 0:00:08\n",
            "   -- ------------------------------------- 14.8/203.0 MB 28.5 MB/s eta 0:00:07\n",
            "   --- ------------------------------------ 16.5/203.0 MB 32.7 MB/s eta 0:00:06\n",
            "   --- ------------------------------------ 18.6/203.0 MB 36.3 MB/s eta 0:00:06\n",
            "   ---- ----------------------------------- 21.1/203.0 MB 40.9 MB/s eta 0:00:05\n",
            "   ---- ----------------------------------- 24.1/203.0 MB 50.4 MB/s eta 0:00:04\n",
            "   ----- ---------------------------------- 26.4/203.0 MB 54.7 MB/s eta 0:00:04\n",
            "   ----- ---------------------------------- 27.4/203.0 MB 50.4 MB/s eta 0:00:04\n",
            "   ----- ---------------------------------- 27.4/203.0 MB 50.4 MB/s eta 0:00:04\n",
            "   ----- ---------------------------------- 27.5/203.0 MB 38.5 MB/s eta 0:00:05\n",
            "   ----- ---------------------------------- 27.7/203.0 MB 32.8 MB/s eta 0:00:06\n",
            "   ----- ---------------------------------- 27.8/203.0 MB 28.5 MB/s eta 0:00:07\n",
            "   ----- ---------------------------------- 28.4/203.0 MB 25.2 MB/s eta 0:00:07\n",
            "   ------ --------------------------------- 30.7/203.0 MB 24.2 MB/s eta 0:00:08\n",
            "   ------ --------------------------------- 33.4/203.0 MB 24.2 MB/s eta 0:00:07\n",
            "   ------- -------------------------------- 35.7/203.0 MB 25.2 MB/s eta 0:00:07\n",
            "   ------- -------------------------------- 38.5/203.0 MB 54.4 MB/s eta 0:00:04\n",
            "   -------- ------------------------------- 41.3/203.0 MB 54.7 MB/s eta 0:00:03\n",
            "   -------- ------------------------------- 44.0/203.0 MB 54.7 MB/s eta 0:00:03\n",
            "   --------- ------------------------------ 46.9/203.0 MB 54.4 MB/s eta 0:00:03\n",
            "   --------- ------------------------------ 49.8/203.0 MB 59.5 MB/s eta 0:00:03\n",
            "   ---------- ----------------------------- 52.6/203.0 MB 59.5 MB/s eta 0:00:03\n",
            "   ---------- ----------------------------- 55.4/203.0 MB 54.7 MB/s eta 0:00:03\n",
            "   ----------- ---------------------------- 57.7/203.0 MB 59.8 MB/s eta 0:00:03\n",
            "   ----------- ---------------------------- 59.7/203.0 MB 50.4 MB/s eta 0:00:03\n",
            "   ------------ --------------------------- 63.0/203.0 MB 59.5 MB/s eta 0:00:03\n",
            "   ------------ --------------------------- 63.3/203.0 MB 59.5 MB/s eta 0:00:03\n",
            "   ------------- -------------------------- 66.9/203.0 MB 54.7 MB/s eta 0:00:03\n",
            "   ------------- -------------------------- 69.0/203.0 MB 50.4 MB/s eta 0:00:03\n",
            "   -------------- ------------------------- 71.9/203.0 MB 54.7 MB/s eta 0:00:03\n",
            "   -------------- ------------------------- 74.8/203.0 MB 65.6 MB/s eta 0:00:02\n",
            "   --------------- ------------------------ 77.0/203.0 MB 59.5 MB/s eta 0:00:03\n",
            "   --------------- ------------------------ 80.5/203.0 MB 59.5 MB/s eta 0:00:03\n",
            "   ---------------- ----------------------- 82.2/203.0 MB 54.4 MB/s eta 0:00:03\n",
            "   ---------------- ----------------------- 85.6/203.0 MB 59.8 MB/s eta 0:00:02\n",
            "   ----------------- ---------------------- 87.4/203.0 MB 59.5 MB/s eta 0:00:02\n",
            "   ----------------- ---------------------- 91.1/203.0 MB 73.1 MB/s eta 0:00:02\n",
            "   ------------------ --------------------- 94.2/203.0 MB 65.6 MB/s eta 0:00:02\n",
            "   ------------------- -------------------- 97.1/203.0 MB 54.4 MB/s eta 0:00:02\n",
            "   ------------------- ------------------- 100.0/203.0 MB 59.8 MB/s eta 0:00:02\n",
            "   ------------------- ------------------- 102.9/203.0 MB 54.7 MB/s eta 0:00:02\n",
            "   -------------------- ------------------ 105.9/203.0 MB 59.5 MB/s eta 0:00:02\n",
            "   -------------------- ------------------ 108.9/203.0 MB 65.6 MB/s eta 0:00:02\n",
            "   --------------------- ----------------- 111.8/203.0 MB 59.5 MB/s eta 0:00:02\n",
            "   ---------------------- ---------------- 114.8/203.0 MB 65.6 MB/s eta 0:00:02\n",
            "   ---------------------- ---------------- 117.8/203.0 MB 54.7 MB/s eta 0:00:02\n",
            "   ----------------------- --------------- 120.1/203.0 MB 59.5 MB/s eta 0:00:02\n",
            "   ----------------------- --------------- 122.9/203.0 MB 59.5 MB/s eta 0:00:02\n",
            "   ------------------------ -------------- 125.6/203.0 MB 59.5 MB/s eta 0:00:02\n",
            "   ------------------------ -------------- 128.4/203.0 MB 59.5 MB/s eta 0:00:02\n",
            "   ------------------------- ------------- 131.3/203.0 MB 59.5 MB/s eta 0:00:02\n",
            "   ------------------------- ------------- 134.1/203.0 MB 54.4 MB/s eta 0:00:02\n",
            "   -------------------------- ------------ 136.6/203.0 MB 59.5 MB/s eta 0:00:02\n",
            "   -------------------------- ------------ 139.2/203.0 MB 59.5 MB/s eta 0:00:02\n",
            "   --------------------------- ----------- 141.6/203.0 MB 65.6 MB/s eta 0:00:01\n",
            "   --------------------------- ----------- 144.5/203.0 MB 65.6 MB/s eta 0:00:01\n",
            "   ---------------------------- ---------- 146.7/203.0 MB 59.5 MB/s eta 0:00:01\n",
            "   ---------------------------- ---------- 149.4/203.0 MB 54.4 MB/s eta 0:00:01\n",
            "   ----------------------------- --------- 151.2/203.0 MB 54.4 MB/s eta 0:00:01\n",
            "   ----------------------------- --------- 154.5/203.0 MB 59.5 MB/s eta 0:00:01\n",
            "   ------------------------------ -------- 157.2/203.0 MB 65.2 MB/s eta 0:00:01\n",
            "   ------------------------------ -------- 160.3/203.0 MB 54.7 MB/s eta 0:00:01\n",
            "   ------------------------------- ------- 162.9/203.0 MB 59.5 MB/s eta 0:00:01\n",
            "   ------------------------------- ------- 165.3/203.0 MB 59.5 MB/s eta 0:00:01\n",
            "   -------------------------------- ------ 168.1/203.0 MB 59.5 MB/s eta 0:00:01\n",
            "   -------------------------------- ------ 170.5/203.0 MB 59.5 MB/s eta 0:00:01\n",
            "   --------------------------------- ----- 173.1/203.0 MB 59.5 MB/s eta 0:00:01\n",
            "   --------------------------------- ----- 175.9/203.0 MB 59.5 MB/s eta 0:00:01\n",
            "   ---------------------------------- ---- 178.7/203.0 MB 65.6 MB/s eta 0:00:01\n",
            "   ---------------------------------- ---- 181.1/203.0 MB 59.5 MB/s eta 0:00:01\n",
            "   ----------------------------------- --- 183.4/203.0 MB 59.5 MB/s eta 0:00:01\n",
            "   ----------------------------------- --- 186.3/203.0 MB 59.5 MB/s eta 0:00:01\n",
            "   ------------------------------------ -- 189.6/203.0 MB 59.8 MB/s eta 0:00:01\n",
            "   ------------------------------------ -- 192.0/203.0 MB 65.2 MB/s eta 0:00:01\n",
            "   ------------------------------------- - 194.2/203.0 MB 54.7 MB/s eta 0:00:01\n",
            "   --------------------------------------  198.2/203.0 MB 65.6 MB/s eta 0:00:01\n",
            "   --------------------------------------  199.5/203.0 MB 59.5 MB/s eta 0:00:01\n",
            "   --------------------------------------  200.4/203.0 MB 54.7 MB/s eta 0:00:01\n",
            "   --------------------------------------  200.5/203.0 MB 43.7 MB/s eta 0:00:01\n",
            "   --------------------------------------  200.8/203.0 MB 38.6 MB/s eta 0:00:01\n",
            "   --------------------------------------  202.1/203.0 MB 29.8 MB/s eta 0:00:01\n",
            "   --------------------------------------  202.8/203.0 MB 28.5 MB/s eta 0:00:01\n",
            "   --------------------------------------  203.0/203.0 MB 27.3 MB/s eta 0:00:01\n",
            "   --------------------------------------  203.0/203.0 MB 27.3 MB/s eta 0:00:01\n",
            "   --------------------------------------  203.0/203.0 MB 27.3 MB/s eta 0:00:01\n",
            "   --------------------------------------  203.0/203.0 MB 27.3 MB/s eta 0:00:01\n",
            "   --------------------------------------  203.0/203.0 MB 27.3 MB/s eta 0:00:01\n",
            "   --------------------------------------  203.0/203.0 MB 27.3 MB/s eta 0:00:01\n",
            "   --------------------------------------  203.0/203.0 MB 27.3 MB/s eta 0:00:01\n",
            "   --------------------------------------  203.0/203.0 MB 27.3 MB/s eta 0:00:01\n",
            "   --------------------------------------  203.0/203.0 MB 27.3 MB/s eta 0:00:01\n",
            "   --------------------------------------  203.0/203.0 MB 27.3 MB/s eta 0:00:01\n",
            "   --------------------------------------  203.0/203.0 MB 27.3 MB/s eta 0:00:01\n",
            "   --------------------------------------  203.0/203.0 MB 27.3 MB/s eta 0:00:01\n",
            "   --------------------------------------  203.0/203.0 MB 27.3 MB/s eta 0:00:01\n",
            "   --------------------------------------  203.0/203.0 MB 27.3 MB/s eta 0:00:01\n",
            "   --------------------------------------  203.0/203.0 MB 27.3 MB/s eta 0:00:01\n",
            "   --------------------------------------  203.0/203.0 MB 27.3 MB/s eta 0:00:01\n",
            "   --------------------------------------  203.0/203.0 MB 27.3 MB/s eta 0:00:01\n",
            "   --------------------------------------  203.0/203.0 MB 27.3 MB/s eta 0:00:01\n",
            "   --------------------------------------  203.0/203.0 MB 27.3 MB/s eta 0:00:01\n",
            "   --------------------------------------  203.0/203.0 MB 27.3 MB/s eta 0:00:01\n",
            "   --------------------------------------  203.0/203.0 MB 27.3 MB/s eta 0:00:01\n",
            "   --------------------------------------  203.0/203.0 MB 27.3 MB/s eta 0:00:01\n",
            "   --------------------------------------  203.0/203.0 MB 27.3 MB/s eta 0:00:01\n",
            "   --------------------------------------  203.0/203.0 MB 27.3 MB/s eta 0:00:01\n",
            "   --------------------------------------  203.0/203.0 MB 27.3 MB/s eta 0:00:01\n",
            "   --------------------------------------  203.0/203.0 MB 27.3 MB/s eta 0:00:01\n",
            "   --------------------------------------  203.0/203.0 MB 27.3 MB/s eta 0:00:01\n",
            "   --------------------------------------  203.0/203.0 MB 27.3 MB/s eta 0:00:01\n",
            "   --------------------------------------  203.0/203.0 MB 27.3 MB/s eta 0:00:01\n",
            "   --------------------------------------  203.0/203.0 MB 27.3 MB/s eta 0:00:01\n",
            "   --------------------------------------  203.0/203.0 MB 27.3 MB/s eta 0:00:01\n",
            "   --------------------------------------  203.0/203.0 MB 27.3 MB/s eta 0:00:01\n",
            "   --------------------------------------  203.0/203.0 MB 27.3 MB/s eta 0:00:01\n",
            "   --------------------------------------  203.0/203.0 MB 27.3 MB/s eta 0:00:01\n",
            "   --------------------------------------  203.0/203.0 MB 27.3 MB/s eta 0:00:01\n",
            "   --------------------------------------  203.0/203.0 MB 27.3 MB/s eta 0:00:01\n",
            "   --------------------------------------  203.0/203.0 MB 27.3 MB/s eta 0:00:01\n",
            "   --------------------------------------  203.0/203.0 MB 27.3 MB/s eta 0:00:01\n",
            "   --------------------------------------  203.0/203.0 MB 27.3 MB/s eta 0:00:01\n",
            "   --------------------------------------  203.0/203.0 MB 27.3 MB/s eta 0:00:01\n",
            "   --------------------------------------  203.0/203.0 MB 27.3 MB/s eta 0:00:01\n",
            "   --------------------------------------  203.0/203.0 MB 27.3 MB/s eta 0:00:01\n",
            "   --------------------------------------  203.0/203.0 MB 27.3 MB/s eta 0:00:01\n",
            "   --------------------------------------  203.0/203.0 MB 27.3 MB/s eta 0:00:01\n",
            "   --------------------------------------  203.0/203.0 MB 27.3 MB/s eta 0:00:01\n",
            "   --------------------------------------  203.0/203.0 MB 27.3 MB/s eta 0:00:01\n",
            "   --------------------------------------  203.0/203.0 MB 27.3 MB/s eta 0:00:01\n",
            "   --------------------------------------  203.0/203.0 MB 27.3 MB/s eta 0:00:01\n",
            "   --------------------------------------  203.0/203.0 MB 27.3 MB/s eta 0:00:01\n",
            "   --------------------------------------  203.0/203.0 MB 27.3 MB/s eta 0:00:01\n",
            "   --------------------------------------  203.0/203.0 MB 27.3 MB/s eta 0:00:01\n",
            "   --------------------------------------  203.0/203.0 MB 27.3 MB/s eta 0:00:01\n",
            "   --------------------------------------  203.0/203.0 MB 27.3 MB/s eta 0:00:01\n",
            "   --------------------------------------  203.0/203.0 MB 27.3 MB/s eta 0:00:01\n",
            "   --------------------------------------  203.0/203.0 MB 27.3 MB/s eta 0:00:01\n",
            "   --------------------------------------  203.0/203.0 MB 27.3 MB/s eta 0:00:01\n",
            "   --------------------------------------  203.0/203.0 MB 27.3 MB/s eta 0:00:01\n",
            "   --------------------------------------  203.0/203.0 MB 27.3 MB/s eta 0:00:01\n",
            "   --------------------------------------  203.0/203.0 MB 27.3 MB/s eta 0:00:01\n",
            "   --------------------------------------  203.0/203.0 MB 27.3 MB/s eta 0:00:01\n",
            "   --------------------------------------  203.0/203.0 MB 27.3 MB/s eta 0:00:01\n",
            "   --------------------------------------  203.0/203.0 MB 27.3 MB/s eta 0:00:01\n",
            "   --------------------------------------  203.0/203.0 MB 27.3 MB/s eta 0:00:01\n",
            "   ---------------------------------------- 203.0/203.0 MB 2.9 MB/s eta 0:00:00\n",
            "Downloading sympy-1.13.1-py3-none-any.whl (6.2 MB)\n",
            "   ---------------------------------------- 0.0/6.2 MB ? eta -:--:--\n",
            "   ------------------ --------------------- 2.8/6.2 MB 60.1 MB/s eta 0:00:01\n",
            "   --------------------------------- ------ 5.1/6.2 MB 54.5 MB/s eta 0:00:01\n",
            "   ---------------------------------------  6.2/6.2 MB 56.6 MB/s eta 0:00:01\n",
            "   ---------------------------------------- 6.2/6.2 MB 39.6 MB/s eta 0:00:00\n",
            "Installing collected packages: sympy, torch\n",
            "Successfully installed sympy-1.13.1 torch-2.5.1\n"
          ]
        }
      ],
      "source": [
        "!pip install torch"
      ]
    },
    {
      "cell_type": "code",
      "execution_count": null,
      "metadata": {
        "id": "r7acZKKP1sPY"
      },
      "outputs": [],
      "source": [
        "import torch\n",
        "import pandas as pd\n",
        "import numpy as np\n",
        "import matplotlib.pyplot as plt"
      ]
    },
    {
      "cell_type": "code",
      "execution_count": null,
      "metadata": {
        "colab": {
          "base_uri": "https://localhost:8080/"
        },
        "id": "UEn0kxDG1sMw",
        "outputId": "7763b32a-49fe-4441-a2da-3e706491d465"
      },
      "outputs": [
        {
          "name": "stdout",
          "output_type": "stream",
          "text": [
            "2.5.1+cpu\n"
          ]
        }
      ],
      "source": [
        "print(torch.__version__)"
      ]
    },
    {
      "cell_type": "markdown",
      "metadata": {
        "id": "hZn_Kyy732Y_"
      },
      "source": [
        "## 1. Introduction to Tensors"
      ]
    },
    {
      "cell_type": "code",
      "execution_count": null,
      "metadata": {
        "id": "lUQRYt5k1sGu"
      },
      "outputs": [],
      "source": [
        "scalar=torch.tensor(7)"
      ]
    },
    {
      "cell_type": "code",
      "execution_count": null,
      "metadata": {
        "colab": {
          "base_uri": "https://localhost:8080/"
        },
        "id": "61PhQlVt1sD7",
        "outputId": "5b10ddca-88df-4d25-ce01-bc36057d5a5b"
      },
      "outputs": [
        {
          "data": {
            "text/plain": [
              "torch.Tensor"
            ]
          },
          "execution_count": 6,
          "metadata": {},
          "output_type": "execute_result"
        }
      ],
      "source": [
        "type(scalar)"
      ]
    },
    {
      "cell_type": "code",
      "execution_count": null,
      "metadata": {
        "colab": {
          "base_uri": "https://localhost:8080/"
        },
        "id": "FKndpm5N1sBD",
        "outputId": "f6d7d6e2-cb2a-4448-a413-a214b680724b"
      },
      "outputs": [
        {
          "data": {
            "text/plain": [
              "7"
            ]
          },
          "execution_count": 7,
          "metadata": {},
          "output_type": "execute_result"
        }
      ],
      "source": [
        "#Get tensor back as python int\n",
        "scalar.item()"
      ]
    },
    {
      "cell_type": "code",
      "execution_count": null,
      "metadata": {
        "colab": {
          "base_uri": "https://localhost:8080/"
        },
        "id": "o22JTSDV1r97",
        "outputId": "e33381e3-3e68-4a2b-86cb-22c0be4dfa4d"
      },
      "outputs": [
        {
          "name": "stdout",
          "output_type": "stream",
          "text": [
            "tensor([7, 7])\n"
          ]
        },
        {
          "data": {
            "text/plain": [
              "torch.Tensor"
            ]
          },
          "execution_count": 8,
          "metadata": {},
          "output_type": "execute_result"
        }
      ],
      "source": [
        "#Vector\n",
        "vector=torch.tensor([7,7])\n",
        "print(vector)\n",
        "type(vector)"
      ]
    },
    {
      "cell_type": "code",
      "execution_count": null,
      "metadata": {
        "colab": {
          "base_uri": "https://localhost:8080/"
        },
        "id": "TjF0L9oo1r7E",
        "outputId": "52abe7d3-11da-4b07-9bde-8cc915dfdc71"
      },
      "outputs": [
        {
          "name": "stdout",
          "output_type": "stream",
          "text": [
            "tensor([[7, 7],\n",
            "        [6, 6],\n",
            "        [5, 5]])\n"
          ]
        }
      ],
      "source": [
        "# Matrix\n",
        "matrix=torch.tensor([[7,7],[6,6],[5,5]])\n",
        "print(matrix)"
      ]
    },
    {
      "cell_type": "code",
      "execution_count": null,
      "metadata": {
        "colab": {
          "base_uri": "https://localhost:8080/"
        },
        "id": "l25axZgn1r4g",
        "outputId": "c9928075-8ed7-43b0-94f7-9c59b7f6408b"
      },
      "outputs": [
        {
          "data": {
            "text/plain": [
              "2"
            ]
          },
          "execution_count": 10,
          "metadata": {},
          "output_type": "execute_result"
        }
      ],
      "source": [
        "matrix.ndim"
      ]
    },
    {
      "cell_type": "code",
      "execution_count": null,
      "metadata": {
        "colab": {
          "base_uri": "https://localhost:8080/"
        },
        "id": "iukxBURQ1r1k",
        "outputId": "8760b562-3b5f-40aa-ce25-03baeb543965"
      },
      "outputs": [
        {
          "data": {
            "text/plain": [
              "tensor([7, 7])"
            ]
          },
          "execution_count": 11,
          "metadata": {},
          "output_type": "execute_result"
        }
      ],
      "source": [
        "matrix[0]"
      ]
    },
    {
      "cell_type": "code",
      "execution_count": null,
      "metadata": {
        "colab": {
          "base_uri": "https://localhost:8080/"
        },
        "id": "0d917qWZ1ryG",
        "outputId": "883e1765-3ec9-4105-880f-3c6c9a01ecc8"
      },
      "outputs": [
        {
          "data": {
            "text/plain": [
              "tensor(5)"
            ]
          },
          "execution_count": 12,
          "metadata": {},
          "output_type": "execute_result"
        }
      ],
      "source": [
        "matrix[2][1]"
      ]
    },
    {
      "cell_type": "code",
      "execution_count": null,
      "metadata": {
        "colab": {
          "base_uri": "https://localhost:8080/"
        },
        "id": "CLmkZykc1rvn",
        "outputId": "c05eca04-675c-4d87-c10f-97294a759950"
      },
      "outputs": [
        {
          "data": {
            "text/plain": [
              "torch.Size([3, 2])"
            ]
          },
          "execution_count": 13,
          "metadata": {},
          "output_type": "execute_result"
        }
      ],
      "source": [
        "matrix.shape"
      ]
    },
    {
      "cell_type": "code",
      "execution_count": null,
      "metadata": {
        "id": "cFujsNiu1rsQ"
      },
      "outputs": [],
      "source": [
        "# Tensor\n",
        "TENSOR= torch.tensor([[[1,2,3],[4,5,6],[7,8,9]]])"
      ]
    },
    {
      "cell_type": "code",
      "execution_count": null,
      "metadata": {
        "colab": {
          "base_uri": "https://localhost:8080/"
        },
        "id": "GMO6VxlK6hmj",
        "outputId": "3b05608a-9e9c-4b5f-d530-ef6ef1d4d1b1"
      },
      "outputs": [
        {
          "data": {
            "text/plain": [
              "tensor([[[1, 2, 3],\n",
              "         [4, 5, 6],\n",
              "         [7, 8, 9]]])"
            ]
          },
          "execution_count": 15,
          "metadata": {},
          "output_type": "execute_result"
        }
      ],
      "source": [
        "TENSOR"
      ]
    },
    {
      "cell_type": "code",
      "execution_count": null,
      "metadata": {
        "colab": {
          "base_uri": "https://localhost:8080/"
        },
        "id": "ZB7FNJSB6hkm",
        "outputId": "1ae66bd9-866a-4ad4-ea96-f3167207bf57"
      },
      "outputs": [
        {
          "data": {
            "text/plain": [
              "3"
            ]
          },
          "execution_count": 16,
          "metadata": {},
          "output_type": "execute_result"
        }
      ],
      "source": [
        "TENSOR.ndim"
      ]
    },
    {
      "cell_type": "code",
      "execution_count": null,
      "metadata": {
        "colab": {
          "base_uri": "https://localhost:8080/"
        },
        "id": "forwDsga6hhh",
        "outputId": "5a14df6b-bba2-4fe3-bdcc-d676b507a22b"
      },
      "outputs": [
        {
          "data": {
            "text/plain": [
              "torch.Size([1, 3, 3])"
            ]
          },
          "execution_count": 17,
          "metadata": {},
          "output_type": "execute_result"
        }
      ],
      "source": [
        "TENSOR.shape"
      ]
    },
    {
      "cell_type": "markdown",
      "metadata": {
        "id": "_gjYTc7D6hea"
      },
      "source": [
        "### Random Tensors"
      ]
    },
    {
      "cell_type": "code",
      "execution_count": null,
      "metadata": {
        "id": "7figjIp_6hbX",
        "outputId": "09ee51d7-1fd1-45af-e42b-fc2eed37d9e0"
      },
      "outputs": [
        {
          "data": {
            "text/plain": [
              "tensor([[0.2092, 0.8799, 0.9387, 0.1277],\n",
              "        [0.4379, 0.9157, 0.7675, 0.4591],\n",
              "        [0.7582, 0.2254, 0.7931, 0.2037]])"
            ]
          },
          "execution_count": 18,
          "metadata": {},
          "output_type": "execute_result"
        }
      ],
      "source": [
        "random_tensor=torch.rand(3,4)\n",
        "random_tensor"
      ]
    },
    {
      "cell_type": "code",
      "execution_count": null,
      "metadata": {
        "id": "WVzC_hhI6hYp",
        "outputId": "6d2ed4bf-9d66-4638-f0d1-bb6742e5ce0d"
      },
      "outputs": [
        {
          "data": {
            "text/plain": [
              "2"
            ]
          },
          "execution_count": 19,
          "metadata": {},
          "output_type": "execute_result"
        }
      ],
      "source": [
        "random_tensor.ndim"
      ]
    },
    {
      "cell_type": "code",
      "execution_count": null,
      "metadata": {
        "id": "Glo30D3g6hVn",
        "outputId": "f6028eb6-61b8-4a1f-b897-5594d0f244c6"
      },
      "outputs": [
        {
          "data": {
            "text/plain": [
              "(torch.Size([225, 225, 3]), 3)"
            ]
          },
          "execution_count": 21,
          "metadata": {},
          "output_type": "execute_result"
        }
      ],
      "source": [
        "#Creating random tensors with similar shape to an image tensor\n",
        "\n",
        "random_image_tensor=torch.rand(size=(225,225,3))\n",
        "random_image_tensor.shape, random_image_tensor.ndim"
      ]
    },
    {
      "cell_type": "code",
      "execution_count": null,
      "metadata": {
        "id": "CKM1V1oo6hSt",
        "outputId": "f1e8c061-59ba-4618-f26d-76b8d456a974"
      },
      "outputs": [
        {
          "data": {
            "text/plain": [
              "tensor([[[0.1682, 0.3090, 0.5722],\n",
              "         [0.5209, 0.0651, 0.6067],\n",
              "         [0.3195, 0.7714, 0.2119]],\n",
              "\n",
              "        [[0.5692, 0.2023, 0.5078],\n",
              "         [0.2590, 0.4634, 0.7328],\n",
              "         [0.7122, 0.3806, 0.9488]],\n",
              "\n",
              "        [[0.3023, 0.3410, 0.9359],\n",
              "         [0.0665, 0.8390, 0.5436],\n",
              "         [0.8264, 0.6587, 0.4222]]])"
            ]
          },
          "execution_count": 23,
          "metadata": {},
          "output_type": "execute_result"
        }
      ],
      "source": [
        "trial=torch.rand(size=(3,3,3))\n",
        "trial"
      ]
    },
    {
      "cell_type": "markdown",
      "metadata": {
        "id": "mAIdgGXX6hP2"
      },
      "source": [
        "### Zeros and Ones"
      ]
    },
    {
      "cell_type": "code",
      "execution_count": null,
      "metadata": {
        "id": "wSLKoRDO6hNX",
        "outputId": "0fb7ca3d-7b73-4a72-c2e7-e1e52ca135d5"
      },
      "outputs": [
        {
          "data": {
            "text/plain": [
              "tensor([[0., 0., 0.],\n",
              "        [0., 0., 0.],\n",
              "        [0., 0., 0.]])"
            ]
          },
          "execution_count": 25,
          "metadata": {},
          "output_type": "execute_result"
        }
      ],
      "source": [
        "zero=torch.zeros(size=(3,3))\n",
        "zero"
      ]
    },
    {
      "cell_type": "code",
      "execution_count": null,
      "metadata": {
        "id": "qrD267CL6hKv",
        "outputId": "5de80ad0-ea4f-4c97-a781-ac4f9be386f2"
      },
      "outputs": [
        {
          "data": {
            "text/plain": [
              "tensor([[1., 1., 1.],\n",
              "        [1., 1., 1.],\n",
              "        [1., 1., 1.]])"
            ]
          },
          "execution_count": 26,
          "metadata": {},
          "output_type": "execute_result"
        }
      ],
      "source": [
        "one=torch.ones(size=(3,3))\n",
        "one"
      ]
    },
    {
      "cell_type": "code",
      "execution_count": null,
      "metadata": {
        "id": "STfeZQqX6hIE",
        "outputId": "2058fb1d-845c-4d63-a692-975283273bc2"
      },
      "outputs": [
        {
          "data": {
            "text/plain": [
              "torch.float32"
            ]
          },
          "execution_count": 27,
          "metadata": {},
          "output_type": "execute_result"
        }
      ],
      "source": [
        "one.dtype"
      ]
    },
    {
      "cell_type": "markdown",
      "metadata": {
        "id": "zjk0PrmG6hFN"
      },
      "source": [
        "### Range"
      ]
    },
    {
      "cell_type": "code",
      "execution_count": null,
      "metadata": {
        "id": "Iezo2nHb6hCh"
      },
      "outputs": [],
      "source": [
        "#Creating a range of tensors and tensors-like"
      ]
    },
    {
      "cell_type": "code",
      "execution_count": null,
      "metadata": {
        "id": "4T9dDxCL6g_p",
        "outputId": "049394bd-4f6e-4eda-83df-d57b9e3b24af"
      },
      "outputs": [
        {
          "data": {
            "text/plain": [
              "tensor([1, 2, 3, 4, 5, 6, 7, 8, 9])"
            ]
          },
          "execution_count": 30,
          "metadata": {},
          "output_type": "execute_result"
        }
      ],
      "source": [
        "torch.arange(1,10)"
      ]
    },
    {
      "cell_type": "code",
      "execution_count": null,
      "metadata": {
        "id": "6qCizD1Oax3P",
        "outputId": "766c41bd-af6d-43f9-8b07-5f81b6af8079"
      },
      "outputs": [
        {
          "data": {
            "text/plain": [
              "tensor([1, 3, 5, 7, 9])"
            ]
          },
          "execution_count": 31,
          "metadata": {},
          "output_type": "execute_result"
        }
      ],
      "source": [
        "torch.arange(1,10,2)"
      ]
    },
    {
      "cell_type": "markdown",
      "metadata": {
        "id": "0cVOiQFQax3P"
      },
      "source": [
        "### Tensors like"
      ]
    },
    {
      "cell_type": "code",
      "execution_count": null,
      "metadata": {
        "id": "GIQR-szSax3P"
      },
      "outputs": [],
      "source": [
        "#Creating tensors like\n",
        "\n",
        "ten_zeros=torch.zeros_like(torch.arange(1,10,2))\n"
      ]
    },
    {
      "cell_type": "code",
      "execution_count": null,
      "metadata": {
        "id": "iS7opwmFax3P",
        "outputId": "05199732-95a9-488f-8699-0b2fd63962ea"
      },
      "outputs": [
        {
          "data": {
            "text/plain": [
              "tensor([0, 0, 0, 0, 0])"
            ]
          },
          "execution_count": 33,
          "metadata": {},
          "output_type": "execute_result"
        }
      ],
      "source": [
        "ten_zeros"
      ]
    },
    {
      "cell_type": "code",
      "execution_count": null,
      "metadata": {
        "id": "oFc4Ee2Vax3P",
        "outputId": "75acb490-afa8-4857-9203-f2711fac1e2c"
      },
      "outputs": [
        {
          "data": {
            "text/plain": [
              "tensor([1, 1, 1, 1, 1])"
            ]
          },
          "execution_count": 34,
          "metadata": {},
          "output_type": "execute_result"
        }
      ],
      "source": [
        "torch.ones_like(torch.arange(1,10,2))"
      ]
    },
    {
      "cell_type": "code",
      "execution_count": null,
      "metadata": {
        "id": "wf98LC1Eax3P",
        "outputId": "460372d0-9f53-488e-81f4-657c11189807"
      },
      "outputs": [
        {
          "data": {
            "text/plain": [
              "torch.float32"
            ]
          },
          "execution_count": 36,
          "metadata": {},
          "output_type": "execute_result"
        }
      ],
      "source": [
        "## Tensor Data Types\n",
        "\n",
        "float_32=torch.tensor([3.0,4,9])\n",
        "float_32.dtype"
      ]
    },
    {
      "cell_type": "markdown",
      "metadata": {
        "id": "JsNxsoDdax3Q"
      },
      "source": [
        "### TO find details about tensor"
      ]
    },
    {
      "cell_type": "code",
      "execution_count": null,
      "metadata": {
        "id": "mEhUkze-ax3Q",
        "outputId": "101db0b2-4f53-4e17-eeb7-1394630fcef0"
      },
      "outputs": [
        {
          "data": {
            "text/plain": [
              "tensor([[1, 2, 3],\n",
              "        [4, 5, 6],\n",
              "        [7, 8, 9]])"
            ]
          },
          "execution_count": 40,
          "metadata": {},
          "output_type": "execute_result"
        }
      ],
      "source": [
        "\n",
        "\n",
        "some_tensor=torch.tensor([[1,2,3],[4,5,6],[7,8,9]])\n",
        "some_tensor"
      ]
    },
    {
      "cell_type": "code",
      "execution_count": null,
      "metadata": {
        "id": "fNtCSR-nax3Q",
        "outputId": "7aab7b0d-9b45-4fa2-ac7f-f4c3d361bdb0"
      },
      "outputs": [
        {
          "name": "stdout",
          "output_type": "stream",
          "text": [
            "torch.Size([3, 3])\n",
            "torch.int64\n",
            "2\n",
            "cpu\n"
          ]
        }
      ],
      "source": [
        "print(some_tensor.shape)\n",
        "print(some_tensor.dtype)\n",
        "print(some_tensor.ndim)\n",
        "print(some_tensor.device)"
      ]
    },
    {
      "cell_type": "code",
      "execution_count": null,
      "metadata": {
        "id": "sXDU_Lngax3Q",
        "outputId": "8de86a18-e949-45fe-b1b4-b58ad0a1fa8e"
      },
      "outputs": [
        {
          "name": "stdout",
          "output_type": "stream",
          "text": [
            "torch.Size([3, 3])\n",
            "torch.int64\n",
            "2\n",
            "cpu\n"
          ]
        }
      ],
      "source": [
        "some_tensor=torch.randint(size=(3,3),low=1,high=50)\n",
        "print(some_tensor.shape)\n",
        "print(some_tensor.dtype)\n",
        "print(some_tensor.ndim)\n",
        "print(some_tensor.device)"
      ]
    },
    {
      "cell_type": "markdown",
      "metadata": {
        "id": "CPvtLtXNax3Y"
      },
      "source": [
        "###  Manipulating Tensors (tensor operations)"
      ]
    },
    {
      "cell_type": "markdown",
      "metadata": {
        "id": "L1CAJgpfax3Y"
      },
      "source": [
        "#### Addition, Multiplication, Subtraction, DIvision, MAtrix Multiplication"
      ]
    },
    {
      "cell_type": "code",
      "execution_count": null,
      "metadata": {
        "id": "-K_OVEUWax3Z",
        "outputId": "a5114d1d-447c-4fc5-cc57-d6547370910f"
      },
      "outputs": [
        {
          "data": {
            "text/plain": [
              "tensor([11, 12, 13])"
            ]
          },
          "execution_count": 44,
          "metadata": {},
          "output_type": "execute_result"
        }
      ],
      "source": [
        "tensor=torch.tensor([1,2,3])\n",
        "tensor+10"
      ]
    },
    {
      "cell_type": "code",
      "execution_count": null,
      "metadata": {
        "id": "MZOc68f_ax3Z",
        "outputId": "0fe68c44-8cb8-4fbf-a466-c9d339b673a2"
      },
      "outputs": [
        {
          "data": {
            "text/plain": [
              "tensor([10, 20, 30])"
            ]
          },
          "execution_count": 45,
          "metadata": {},
          "output_type": "execute_result"
        }
      ],
      "source": [
        "tensor*10"
      ]
    },
    {
      "cell_type": "code",
      "execution_count": null,
      "metadata": {
        "id": "PLMbTEw3ax3Z",
        "outputId": "e8b49d92-db70-4c4f-d406-e8f77e4ebc85"
      },
      "outputs": [
        {
          "data": {
            "text/plain": [
              "tensor([-9, -8, -7])"
            ]
          },
          "execution_count": 46,
          "metadata": {},
          "output_type": "execute_result"
        }
      ],
      "source": [
        "tensor-10"
      ]
    },
    {
      "cell_type": "code",
      "execution_count": null,
      "metadata": {
        "id": "i0mQzoXuax3Z",
        "outputId": "1f62a581-ddfa-4596-9ae7-15a4ca3b2353"
      },
      "outputs": [
        {
          "data": {
            "text/plain": [
              "tensor([0.1000, 0.2000, 0.3000])"
            ]
          },
          "execution_count": 47,
          "metadata": {},
          "output_type": "execute_result"
        }
      ],
      "source": [
        "tensor/10"
      ]
    },
    {
      "cell_type": "code",
      "execution_count": null,
      "metadata": {
        "id": "J54tA9lGax3Z",
        "outputId": "7f833845-83d3-4118-c6b0-505746915cb7"
      },
      "outputs": [
        {
          "data": {
            "text/plain": [
              "tensor([10, 20, 30])"
            ]
          },
          "execution_count": 48,
          "metadata": {},
          "output_type": "execute_result"
        }
      ],
      "source": [
        "# Trying pytorch in-built functions\n",
        "\n",
        "torch.mul(tensor,10)"
      ]
    },
    {
      "cell_type": "markdown",
      "metadata": {
        "id": "uTdzV2gKax3Z"
      },
      "source": [
        "### MAtrix Multiplication"
      ]
    },
    {
      "cell_type": "code",
      "execution_count": null,
      "metadata": {
        "id": "Cup7ujieax3Z",
        "outputId": "8f1f5976-21c8-4795-ea64-1f162da9b790"
      },
      "outputs": [
        {
          "data": {
            "text/plain": [
              "tensor([[2, 4],\n",
              "        [6, 8]])"
            ]
          },
          "execution_count": 50,
          "metadata": {},
          "output_type": "execute_result"
        }
      ],
      "source": [
        "## Element wise\n",
        "\n",
        "matrix=torch.tensor([[1,2],[3,4]])\n",
        "matrix*2"
      ]
    },
    {
      "cell_type": "code",
      "execution_count": null,
      "metadata": {
        "id": "AbGkHEv8ax3a",
        "outputId": "0498aabc-cc13-463f-dc8a-a04e8b634282"
      },
      "outputs": [
        {
          "data": {
            "text/plain": [
              "tensor([[ 5, 12],\n",
              "        [21, 32]])"
            ]
          },
          "execution_count": 56,
          "metadata": {},
          "output_type": "execute_result"
        }
      ],
      "source": [
        "# Two matrix multiplication --this is wrong method\n",
        "\n",
        "matrix1=torch.tensor([[1,2],[3,4]])\n",
        "matrix2=torch.tensor([[5,6],[7,8]])\n",
        "\n",
        "matrix1*matrix2"
      ]
    },
    {
      "cell_type": "code",
      "execution_count": null,
      "metadata": {
        "id": "fq5LlXeuax3a",
        "outputId": "04166703-b520-480b-e51a-c4c2841d5675"
      },
      "outputs": [
        {
          "data": {
            "text/plain": [
              "tensor([[19, 22],\n",
              "        [43, 50]])"
            ]
          },
          "execution_count": 57,
          "metadata": {},
          "output_type": "execute_result"
        }
      ],
      "source": [
        "torch.matmul(matrix1,matrix2)"
      ]
    },
    {
      "cell_type": "code",
      "execution_count": null,
      "metadata": {
        "id": "ZKifh1Cpax3a",
        "outputId": "b8b8fe4b-64d0-4bb4-c174-206e4ae7ceeb"
      },
      "outputs": [
        {
          "data": {
            "text/plain": [
              "tensor([[5, 6],\n",
              "        [7, 8]])"
            ]
          },
          "execution_count": 66,
          "metadata": {},
          "output_type": "execute_result"
        }
      ],
      "source": [
        "matrix2"
      ]
    },
    {
      "cell_type": "code",
      "execution_count": null,
      "metadata": {
        "id": "GHrcvK5uax3a",
        "outputId": "6635c9eb-f5ab-4e14-9c4b-606a055c4d61"
      },
      "outputs": [
        {
          "data": {
            "text/plain": [
              "tensor([[5, 7],\n",
              "        [6, 8]])"
            ]
          },
          "execution_count": 65,
          "metadata": {},
          "output_type": "execute_result"
        }
      ],
      "source": [
        "matrix2.T\n"
      ]
    },
    {
      "cell_type": "markdown",
      "metadata": {
        "id": "QLhcdzFzax3a"
      },
      "source": [
        "### Finding min,max,mean, sum (aggregation in tensor)"
      ]
    },
    {
      "cell_type": "code",
      "execution_count": null,
      "metadata": {
        "id": "eRNIznI2ax3a"
      },
      "outputs": [],
      "source": [
        "x=torch.arange(0,100,10)"
      ]
    },
    {
      "cell_type": "code",
      "execution_count": null,
      "metadata": {
        "id": "Z62vCh_Hax3b",
        "outputId": "c337ae4c-705c-4c58-d0b7-3826a4879ad8"
      },
      "outputs": [
        {
          "data": {
            "text/plain": [
              "tensor([ 0, 10, 20, 30, 40, 50, 60, 70, 80, 90])"
            ]
          },
          "execution_count": 68,
          "metadata": {},
          "output_type": "execute_result"
        }
      ],
      "source": [
        "x"
      ]
    },
    {
      "cell_type": "code",
      "execution_count": null,
      "metadata": {
        "id": "7_zf-RV0ax3b",
        "outputId": "95ae9d89-3384-4baf-91cb-d4a69d334c29"
      },
      "outputs": [
        {
          "data": {
            "text/plain": [
              "(tensor(0), tensor(0))"
            ]
          },
          "execution_count": 69,
          "metadata": {},
          "output_type": "execute_result"
        }
      ],
      "source": [
        "torch.min(x),x.min()"
      ]
    },
    {
      "cell_type": "code",
      "execution_count": null,
      "metadata": {
        "id": "5S01gOkKax3b",
        "outputId": "dd45d6ce-a351-408e-fe9a-7fafc1e8d986"
      },
      "outputs": [
        {
          "data": {
            "text/plain": [
              "(tensor(90), tensor(90))"
            ]
          },
          "execution_count": 70,
          "metadata": {},
          "output_type": "execute_result"
        }
      ],
      "source": [
        "torch.max(x),x.max()"
      ]
    },
    {
      "cell_type": "code",
      "execution_count": null,
      "metadata": {
        "id": "8iTTN7dGax3b",
        "outputId": "3f639038-316f-47c3-b152-15bb2a7a8d61"
      },
      "outputs": [
        {
          "ename": "RuntimeError",
          "evalue": "mean(): could not infer output dtype. Input dtype must be either a floating point or complex dtype. Got: Long",
          "output_type": "error",
          "traceback": [
            "\u001b[1;31m---------------------------------------------------------------------------\u001b[0m",
            "\u001b[1;31mRuntimeError\u001b[0m                              Traceback (most recent call last)",
            "Cell \u001b[1;32mIn[71], line 1\u001b[0m\n\u001b[1;32m----> 1\u001b[0m \u001b[43mtorch\u001b[49m\u001b[38;5;241;43m.\u001b[39;49m\u001b[43mmean\u001b[49m\u001b[43m(\u001b[49m\u001b[43mx\u001b[49m\u001b[43m)\u001b[49m,x\u001b[38;5;241m.\u001b[39mmean()\n",
            "\u001b[1;31mRuntimeError\u001b[0m: mean(): could not infer output dtype. Input dtype must be either a floating point or complex dtype. Got: Long"
          ]
        }
      ],
      "source": [
        "torch.mean(x),x.mean()"
      ]
    },
    {
      "cell_type": "code",
      "execution_count": null,
      "metadata": {
        "id": "JqUW8xGlax3b",
        "outputId": "6c27bab9-0370-4810-d05d-a021f19c8c72"
      },
      "outputs": [
        {
          "data": {
            "text/plain": [
              "tensor(45.)"
            ]
          },
          "execution_count": 80,
          "metadata": {},
          "output_type": "execute_result"
        }
      ],
      "source": [
        "# mean function wont work on int data type\n",
        "torch.mean(x.type(torch.float32))"
      ]
    },
    {
      "cell_type": "markdown",
      "metadata": {
        "id": "dFnAoa8Vax3b"
      },
      "source": [
        "### Finding positional min and max of tensors"
      ]
    },
    {
      "cell_type": "code",
      "execution_count": null,
      "metadata": {
        "id": "wUXSiNXzax3b",
        "outputId": "992ee1c6-c213-471c-9818-bcb3f4e71664"
      },
      "outputs": [
        {
          "data": {
            "text/plain": [
              "tensor(9)"
            ]
          },
          "execution_count": 82,
          "metadata": {},
          "output_type": "execute_result"
        }
      ],
      "source": [
        "#returns the position of the max number\n",
        "torch.argmax(x)"
      ]
    },
    {
      "cell_type": "code",
      "execution_count": null,
      "metadata": {
        "id": "tH0XPr53ax3c",
        "outputId": "ddf7d233-bbf9-44e9-a07d-6f9da1924994"
      },
      "outputs": [
        {
          "data": {
            "text/plain": [
              "tensor(0)"
            ]
          },
          "execution_count": 83,
          "metadata": {},
          "output_type": "execute_result"
        }
      ],
      "source": [
        "#returns the position of the min number\n",
        "torch.argmin(x)"
      ]
    },
    {
      "cell_type": "markdown",
      "metadata": {
        "id": "v7SEPUncax3c"
      },
      "source": [
        "### Reshaping, Stacking, Squeezing, Unsqueezing"
      ]
    },
    {
      "cell_type": "code",
      "execution_count": null,
      "metadata": {
        "id": "5maDUKBPax3c"
      },
      "outputs": [],
      "source": [
        "x=torch.arange(1,10)"
      ]
    },
    {
      "cell_type": "code",
      "execution_count": null,
      "metadata": {
        "id": "QJMiBZ0aax3c",
        "outputId": "92a63c28-ea65-4783-97f2-db7deca96d77"
      },
      "outputs": [
        {
          "data": {
            "text/plain": [
              "tensor([1, 2, 3, 4, 5, 6, 7, 8, 9])"
            ]
          },
          "execution_count": 85,
          "metadata": {},
          "output_type": "execute_result"
        }
      ],
      "source": [
        "x"
      ]
    },
    {
      "cell_type": "code",
      "execution_count": null,
      "metadata": {
        "id": "OXAGTP8Hax3c"
      },
      "outputs": [],
      "source": [
        "x_new=x.reshape(3,3)"
      ]
    },
    {
      "cell_type": "code",
      "execution_count": null,
      "metadata": {
        "id": "XRZo_fixax3d",
        "outputId": "486ab879-4ce8-418b-d3a6-f859b359cddb"
      },
      "outputs": [
        {
          "data": {
            "text/plain": [
              "tensor([[1, 2, 3],\n",
              "        [4, 5, 6],\n",
              "        [7, 8, 9]])"
            ]
          },
          "execution_count": 87,
          "metadata": {},
          "output_type": "execute_result"
        }
      ],
      "source": [
        "x_new"
      ]
    },
    {
      "cell_type": "code",
      "execution_count": null,
      "metadata": {
        "id": "52-vVFo5ax3d"
      },
      "outputs": [],
      "source": [
        "## Indexing\n",
        "\n",
        "x=torch.arange(1,10).reshape(1,3,3)"
      ]
    },
    {
      "cell_type": "code",
      "execution_count": null,
      "metadata": {
        "id": "EHJEezKcax3d",
        "outputId": "ae1d855c-9f19-4220-a9ca-681754d41f64"
      },
      "outputs": [
        {
          "data": {
            "text/plain": [
              "tensor([[[1, 2, 3],\n",
              "         [4, 5, 6],\n",
              "         [7, 8, 9]]])"
            ]
          },
          "execution_count": 91,
          "metadata": {},
          "output_type": "execute_result"
        }
      ],
      "source": [
        "x"
      ]
    },
    {
      "cell_type": "code",
      "execution_count": null,
      "metadata": {
        "id": "NjZ2rEvGax3d",
        "outputId": "47bf9d6d-24d6-4cb1-ca5c-3f0073529864"
      },
      "outputs": [
        {
          "data": {
            "text/plain": [
              "tensor(9)"
            ]
          },
          "execution_count": 104,
          "metadata": {},
          "output_type": "execute_result"
        }
      ],
      "source": [
        "x[0][2][2]"
      ]
    },
    {
      "cell_type": "code",
      "execution_count": null,
      "metadata": {
        "id": "EIUJhAsNax3e",
        "outputId": "ceb3d819-d884-439e-9e1e-d557425cb302"
      },
      "outputs": [
        {
          "data": {
            "text/plain": [
              "tensor([[3, 6, 9]])"
            ]
          },
          "execution_count": 105,
          "metadata": {},
          "output_type": "execute_result"
        }
      ],
      "source": [
        "x[:,:,2]"
      ]
    },
    {
      "cell_type": "code",
      "execution_count": null,
      "metadata": {
        "id": "35AKUkLNax3e",
        "outputId": "04a3b6c4-1541-41d0-bbb1-d05259471903"
      },
      "outputs": [
        {
          "data": {
            "text/plain": [
              "(tensor(1), tensor(1))"
            ]
          },
          "execution_count": 107,
          "metadata": {},
          "output_type": "execute_result"
        }
      ],
      "source": [
        "x[0,0,0],x[0][0][0]"
      ]
    },
    {
      "cell_type": "code",
      "execution_count": null,
      "metadata": {
        "id": "KKjPUoKEax3e",
        "outputId": "c290eddc-6798-4ca0-8734-c544a53a7003"
      },
      "outputs": [
        {
          "data": {
            "text/plain": [
              "(tensor([[1, 4, 7]]),\n",
              " tensor([[1, 2, 3],\n",
              "         [4, 5, 6],\n",
              "         [7, 8, 9]]))"
            ]
          },
          "execution_count": 114,
          "metadata": {},
          "output_type": "execute_result"
        }
      ],
      "source": [
        "x[:,:,0],    x[:][:][0]"
      ]
    },
    {
      "cell_type": "markdown",
      "metadata": {
        "id": "KtAJCv56ax3e"
      },
      "source": [
        "### PyTorch tensors and Numpy"
      ]
    },
    {
      "cell_type": "code",
      "execution_count": null,
      "metadata": {
        "id": "RefrqQ5cax3f"
      },
      "outputs": [],
      "source": [
        "import numpy as np"
      ]
    },
    {
      "cell_type": "code",
      "execution_count": null,
      "metadata": {
        "id": "vohSXf9Vax3f",
        "outputId": "4c596cbe-b472-4607-9604-e0b7835d72fb"
      },
      "outputs": [
        {
          "data": {
            "text/plain": [
              "(array([1, 2, 3, 4, 5, 6, 7]),\n",
              " tensor([1, 2, 3, 4, 5, 6, 7], dtype=torch.int32))"
            ]
          },
          "execution_count": 116,
          "metadata": {},
          "output_type": "execute_result"
        }
      ],
      "source": [
        "array=np.arange(1,8)\n",
        "tensor=torch.from_numpy(array)\n",
        "array,tensor"
      ]
    },
    {
      "cell_type": "code",
      "execution_count": null,
      "metadata": {
        "id": "T77fyCaBax3f",
        "outputId": "b3765f17-9a1b-4c7c-e1c0-5ba1ffdf8db6"
      },
      "outputs": [
        {
          "data": {
            "text/plain": [
              "(array([2, 3, 4, 5, 6, 7, 8]),\n",
              " tensor([1, 2, 3, 4, 5, 6, 7], dtype=torch.int32))"
            ]
          },
          "execution_count": 118,
          "metadata": {},
          "output_type": "execute_result"
        }
      ],
      "source": [
        "array+1,tensor"
      ]
    },
    {
      "cell_type": "code",
      "execution_count": null,
      "metadata": {
        "id": "edqYJP7Yax3f",
        "outputId": "aa8f870e-1cfa-4b69-8b48-15355f3c3d6e"
      },
      "outputs": [
        {
          "data": {
            "text/plain": [
              "array([1, 2, 3, 4, 5, 6, 7])"
            ]
          },
          "execution_count": 120,
          "metadata": {},
          "output_type": "execute_result"
        }
      ],
      "source": [
        "# Tensor to Numpy\n",
        "new=tensor.numpy()\n",
        "new"
      ]
    },
    {
      "cell_type": "markdown",
      "metadata": {
        "id": "0MPfXIakax3f"
      },
      "source": [
        "### Reproducibility (trying to take random out of random)\n",
        "\n",
        "##### to reduce the randomness we ca use the *random seed*"
      ]
    },
    {
      "cell_type": "code",
      "execution_count": null,
      "metadata": {
        "id": "kL7hGy4kax3f",
        "outputId": "d55f5ab0-adaa-4c70-e93e-15af79653bfb"
      },
      "outputs": [
        {
          "name": "stdout",
          "output_type": "stream",
          "text": [
            "tensor([[True, True, True],\n",
            "        [True, True, True],\n",
            "        [True, True, True]])\n"
          ]
        }
      ],
      "source": [
        "torch.manual_seed(42)\n",
        "tensor1=torch.rand(3,3)\n",
        "torch.manual_seed(42)\n",
        "tensor2=torch.rand(3,3)\n",
        "print(tensor1==tensor2)\n"
      ]
    },
    {
      "cell_type": "code",
      "execution_count": null,
      "metadata": {
        "id": "SnI2Rsgaax3f",
        "outputId": "f58f8a01-611d-47b7-9e0d-01b5b662ecf1"
      },
      "outputs": [
        {
          "data": {
            "text/plain": [
              "False"
            ]
          },
          "execution_count": 125,
          "metadata": {},
          "output_type": "execute_result"
        }
      ],
      "source": [
        "torch.cuda.is_available()"
      ]
    },
    {
      "cell_type": "code",
      "execution_count": null,
      "metadata": {
        "id": "m_yKZCRWax3g"
      },
      "outputs": [],
      "source": []
    },
    {
      "cell_type": "markdown",
      "source": [
        "## Autograd"
      ],
      "metadata": {
        "id": "hcN11E1la9qr"
      }
    },
    {
      "cell_type": "code",
      "execution_count": 2,
      "metadata": {
        "id": "cuYozwLvax3g"
      },
      "outputs": [],
      "source": [
        "\n",
        "import torch"
      ]
    },
    {
      "cell_type": "code",
      "execution_count": 7,
      "metadata": {
        "id": "6HrjHRo2ax3g",
        "outputId": "f628049d-d2f3-4713-b3f9-1a711da90bd7",
        "colab": {
          "base_uri": "https://localhost:8080/"
        }
      },
      "outputs": [
        {
          "output_type": "stream",
          "name": "stdout",
          "text": [
            "tensor([[2.0000, 2.6667, 3.3333],\n",
            "        [4.0000, 4.6667, 5.3333]])\n"
          ]
        }
      ],
      "source": [
        "a=torch.tensor([[1,2,3],[4,5,6]],requires_grad=True, dtype=torch.float)\n",
        "b=a+2\n",
        "c=2*b*b\n",
        "out=c.mean()\n",
        "out.backward()\n",
        "print(a.grad)"
      ]
    },
    {
      "cell_type": "code",
      "execution_count": 8,
      "metadata": {
        "id": "6Q8W6xhkax3g"
      },
      "outputs": [],
      "source": [
        "a=torch.tensor([[1,2,3],[4,5,6]],requires_grad=True, dtype=torch.float)\n",
        "b=a+2"
      ]
    },
    {
      "cell_type": "code",
      "execution_count": 9,
      "metadata": {
        "id": "c1kOLCJLax3g",
        "outputId": "c6a201a7-fe7e-4a2f-eaa3-40567ba6a518",
        "colab": {
          "base_uri": "https://localhost:8080/"
        }
      },
      "outputs": [
        {
          "output_type": "execute_result",
          "data": {
            "text/plain": [
              "tensor([[3., 4., 5.],\n",
              "        [6., 7., 8.]], grad_fn=<AddBackward0>)"
            ]
          },
          "metadata": {},
          "execution_count": 9
        }
      ],
      "source": [
        "b"
      ]
    },
    {
      "cell_type": "code",
      "execution_count": 10,
      "metadata": {
        "id": "dCLtHLqHax3g",
        "outputId": "0a7b4409-4757-4da0-ff40-edaf48392c00",
        "colab": {
          "base_uri": "https://localhost:8080/"
        }
      },
      "outputs": [
        {
          "output_type": "execute_result",
          "data": {
            "text/plain": [
              "tensor([[ 18.,  32.,  50.],\n",
              "        [ 72.,  98., 128.]], grad_fn=<MulBackward0>)"
            ]
          },
          "metadata": {},
          "execution_count": 10
        }
      ],
      "source": [
        "c=2*b*b\n",
        "c"
      ]
    },
    {
      "cell_type": "code",
      "execution_count": 11,
      "metadata": {
        "id": "Y7SbTPUdax3g",
        "outputId": "04868374-7083-4cea-d53c-90b31a0fac15",
        "colab": {
          "base_uri": "https://localhost:8080/"
        }
      },
      "outputs": [
        {
          "output_type": "execute_result",
          "data": {
            "text/plain": [
              "tensor(66.3333, grad_fn=<MeanBackward0>)"
            ]
          },
          "metadata": {},
          "execution_count": 11
        }
      ],
      "source": [
        "c.mean()"
      ]
    },
    {
      "cell_type": "code",
      "execution_count": null,
      "metadata": {
        "id": "fG_ZfVHeax3g"
      },
      "outputs": [],
      "source": []
    },
    {
      "cell_type": "code",
      "execution_count": null,
      "metadata": {
        "id": "wZ_PtgHWax3g"
      },
      "outputs": [],
      "source": []
    },
    {
      "cell_type": "code",
      "execution_count": null,
      "metadata": {
        "id": "6Ke38lSKax3g"
      },
      "outputs": [],
      "source": []
    },
    {
      "cell_type": "code",
      "execution_count": null,
      "metadata": {
        "id": "XSHOotggax3g"
      },
      "outputs": [],
      "source": []
    }
  ],
  "metadata": {
    "colab": {
      "provenance": []
    },
    "kernelspec": {
      "display_name": "base",
      "language": "python",
      "name": "python3"
    },
    "language_info": {
      "codemirror_mode": {
        "name": "ipython",
        "version": 3
      },
      "file_extension": ".py",
      "mimetype": "text/x-python",
      "name": "python",
      "nbconvert_exporter": "python",
      "pygments_lexer": "ipython3",
      "version": "3.12.4"
    }
  },
  "nbformat": 4,
  "nbformat_minor": 0
}
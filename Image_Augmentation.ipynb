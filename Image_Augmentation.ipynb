{
  "nbformat": 4,
  "nbformat_minor": 0,
  "metadata": {
    "colab": {
      "provenance": [],
      "authorship_tag": "ABX9TyPwerULdvRsuB0VDa/XexiE",
      "include_colab_link": true
    },
    "kernelspec": {
      "name": "python3",
      "display_name": "Python 3"
    },
    "language_info": {
      "name": "python"
    }
  },
  "cells": [
    {
      "cell_type": "markdown",
      "metadata": {
        "id": "view-in-github",
        "colab_type": "text"
      },
      "source": [
        "<a href=\"https://colab.research.google.com/github/gautam-pai/PyTorch-Learning/blob/main/Image_Augmentation.ipynb\" target=\"_parent\"><img src=\"https://colab.research.google.com/assets/colab-badge.svg\" alt=\"Open In Colab\"/></a>"
      ]
    },
    {
      "cell_type": "code",
      "execution_count": 1,
      "metadata": {
        "colab": {
          "base_uri": "https://localhost:8080/"
        },
        "id": "flNHW9L-vC6V",
        "outputId": "3ca4e46e-18c2-4167-9e68-4ac461b9d3ab"
      },
      "outputs": [
        {
          "output_type": "stream",
          "name": "stdout",
          "text": [
            "Mounted at /content/drive\n"
          ]
        }
      ],
      "source": [
        "from google.colab import drive\n",
        "drive.mount('/content/drive')"
      ]
    },
    {
      "cell_type": "code",
      "source": [
        "import pandas as pd\n",
        "import numpy as np\n",
        "import albumentations as A\n",
        "import cv2"
      ],
      "metadata": {
        "id": "tUmWquThvOgF"
      },
      "execution_count": 2,
      "outputs": []
    },
    {
      "cell_type": "code",
      "source": [
        "import os"
      ],
      "metadata": {
        "id": "KOaq3Bc7MqEV"
      },
      "execution_count": 3,
      "outputs": []
    },
    {
      "cell_type": "code",
      "source": [
        "import torch\n",
        "from torchvision.io import read_image"
      ],
      "metadata": {
        "id": "CZhepMdbO5-E"
      },
      "execution_count": 20,
      "outputs": []
    },
    {
      "cell_type": "code",
      "source": [
        "from torchvision import transforms,datasets"
      ],
      "metadata": {
        "id": "w_79ruotSS2X"
      },
      "execution_count": 22,
      "outputs": []
    },
    {
      "cell_type": "code",
      "source": [
        "from torch.utils.data import DataLoader"
      ],
      "metadata": {
        "id": "BeBmWL-RTXUx"
      },
      "execution_count": 26,
      "outputs": []
    },
    {
      "cell_type": "code",
      "source": [
        "os.listdir()"
      ],
      "metadata": {
        "id": "TH3G02J3Msxm",
        "outputId": "4aabeed8-8cad-4098-bf83-7fcdd019c294",
        "colab": {
          "base_uri": "https://localhost:8080/"
        }
      },
      "execution_count": 5,
      "outputs": [
        {
          "output_type": "execute_result",
          "data": {
            "text/plain": [
              "['.config', 'drive', 'sample_data']"
            ]
          },
          "metadata": {},
          "execution_count": 5
        }
      ]
    },
    {
      "cell_type": "code",
      "source": [
        "file_path='/content/drive/MyDrive/Dataset/MyFace'"
      ],
      "metadata": {
        "id": "4CwIUKoXMweo"
      },
      "execution_count": 10,
      "outputs": []
    },
    {
      "cell_type": "code",
      "source": [
        "os.listdir(file_path)"
      ],
      "metadata": {
        "id": "Y70dduaqOCcx",
        "outputId": "5edad1de-b9f7-4097-c737-9ae4f5295345",
        "colab": {
          "base_uri": "https://localhost:8080/"
        }
      },
      "execution_count": 18,
      "outputs": [
        {
          "output_type": "execute_result",
          "data": {
            "text/plain": [
              "['userPhoto.jpg',\n",
              " 'IMG_20200106_175710.jpg',\n",
              " 'DSC_0261.JPG',\n",
              " '00100sPORTRAIT_00100_BURST20180419232012327_COVER.jpg',\n",
              " 'IMG20200229102253.jpg',\n",
              " 'IMG20200511193137.jpg',\n",
              " 'IMG20200814194507.jpg',\n",
              " 'IMG20210218084353.jpg',\n",
              " 'IMG20240805194235.jpg',\n",
              " 'IMG20221012161619.jpg',\n",
              " 'IMG20221018071632.jpg']"
            ]
          },
          "metadata": {},
          "execution_count": 18
        }
      ]
    },
    {
      "cell_type": "code",
      "source": [
        "photos=[]"
      ],
      "metadata": {
        "id": "OI34rlm7QeP6"
      },
      "execution_count": null,
      "outputs": []
    },
    {
      "cell_type": "code",
      "source": [],
      "metadata": {
        "id": "9iGBJHQyRDH7"
      },
      "execution_count": null,
      "outputs": []
    },
    {
      "cell_type": "code",
      "source": [
        "for i in os.listdir(file_path):\n",
        "  img_path = os.path.join(file_path, i)\n",
        "  img = read_image(img_path)\n",
        "  print(img.shape)\n",
        "  #new=torch.reshape(img,(512,512))\n",
        "  #print(new.shape)"
      ],
      "metadata": {
        "id": "mEVTykZIOx4L",
        "outputId": "4f822a79-add4-4906-97bb-09787a36548b",
        "colab": {
          "base_uri": "https://localhost:8080/"
        }
      },
      "execution_count": 21,
      "outputs": [
        {
          "output_type": "stream",
          "name": "stdout",
          "text": [
            "torch.Size([3, 2074, 1555])\n",
            "torch.Size([3, 1944, 2592])\n",
            "torch.Size([3, 2848, 4288])\n",
            "torch.Size([3, 1944, 2592])\n",
            "torch.Size([3, 4608, 3456])\n",
            "torch.Size([3, 4000, 3000])\n",
            "torch.Size([3, 4608, 3456])\n",
            "torch.Size([3, 3456, 4608])\n",
            "torch.Size([3, 3456, 3456])\n",
            "torch.Size([3, 3456, 4608])\n",
            "torch.Size([3, 4608, 3456])\n"
          ]
        }
      ]
    },
    {
      "cell_type": "code",
      "source": [
        "\n",
        "transform = transforms.Compose([\n",
        "    transforms.Resize((512)),\n",
        "    transforms.CenterCrop(512),\n",
        "    transforms.ToTensor(),\n",
        "    transforms.Normalize(mean=[0.5, 0.5, 0.5], std=[0.5, 0.5, 0.5])\n",
        "])"
      ],
      "metadata": {
        "id": "2OVl8L7sOYMj"
      },
      "execution_count": 24,
      "outputs": []
    },
    {
      "cell_type": "code",
      "source": [
        "dataset = DataLoader(dataset=file_path)\n"
      ],
      "metadata": {
        "id": "xOu-So_2Sr_r"
      },
      "execution_count": 30,
      "outputs": []
    },
    {
      "cell_type": "code",
      "source": [
        "dataset"
      ],
      "metadata": {
        "id": "hLqGHcKOUUtG",
        "outputId": "f34f0cd7-175f-4204-80e4-aae239783d35",
        "colab": {
          "base_uri": "https://localhost:8080/"
        }
      },
      "execution_count": 31,
      "outputs": [
        {
          "output_type": "execute_result",
          "data": {
            "text/plain": [
              "<torch.utils.data.dataloader.DataLoader at 0x7b30680f0150>"
            ]
          },
          "metadata": {},
          "execution_count": 31
        }
      ]
    },
    {
      "cell_type": "code",
      "source": [
        "transform=A.Compose([\n",
        "                     A.RandomCrop(width=512, height=512),\n",
        "                     A.GaussianBlur(),\n",
        "                     A.Blur(),\n",
        "                     A.HorizontalFlip(p=0.5),\n",
        "                     A.RandomBrightnessContrast(p=0.2),])"
      ],
      "metadata": {
        "id": "jy6UZrAVNCTT"
      },
      "execution_count": null,
      "outputs": []
    }
  ]
}
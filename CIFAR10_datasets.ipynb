{
  "nbformat": 4,
  "nbformat_minor": 0,
  "metadata": {
    "colab": {
      "provenance": [],
      "authorship_tag": "ABX9TyOEiBJrMUDjQ60NxoopI3DV",
      "include_colab_link": true
    },
    "kernelspec": {
      "name": "python3",
      "display_name": "Python 3"
    },
    "language_info": {
      "name": "python"
    }
  },
  "cells": [
    {
      "cell_type": "markdown",
      "metadata": {
        "id": "view-in-github",
        "colab_type": "text"
      },
      "source": [
        "<a href=\"https://colab.research.google.com/github/gautam-pai/PyTorch-Learning/blob/main/CIFAR10_datasets.ipynb\" target=\"_parent\"><img src=\"https://colab.research.google.com/assets/colab-badge.svg\" alt=\"Open In Colab\"/></a>"
      ]
    },
    {
      "cell_type": "markdown",
      "source": [
        "## Import libraries"
      ],
      "metadata": {
        "id": "22qg1iADAMsF"
      }
    },
    {
      "cell_type": "code",
      "execution_count": 11,
      "metadata": {
        "id": "rkFy_91Q_2jK"
      },
      "outputs": [],
      "source": [
        "import pandas as pd\n",
        "import numpy as np\n",
        "from sklearn.metrics import confusion_matrix\n",
        "import matplotlib.pyplot as plt\n",
        "\n",
        "%matplotlib inline"
      ]
    },
    {
      "cell_type": "code",
      "source": [
        "import torch\n",
        "import torch.nn as nn\n",
        "from torchvision import datasets,transforms\n",
        "import torch.nn.functional as F\n",
        "from torch.utils.data import DataLoader"
      ],
      "metadata": {
        "id": "Mhj4HJv_AMNn"
      },
      "execution_count": 2,
      "outputs": []
    },
    {
      "cell_type": "markdown",
      "source": [
        "## Import Datasets"
      ],
      "metadata": {
        "id": "u-J1b89iDb36"
      }
    },
    {
      "cell_type": "code",
      "source": [
        "train_data=datasets.CIFAR10(root=\"./data\",train=True,transform=transforms.ToTensor(),download=True)\n",
        "test_data=datasets.CIFAR10(root=\"./data\",train=False,transform=transforms.ToTensor(),download=True)"
      ],
      "metadata": {
        "colab": {
          "base_uri": "https://localhost:8080/"
        },
        "id": "JTw_qF3xBdiU",
        "outputId": "c4876acd-7fd0-4f2c-cd7a-e70a8bf37446"
      },
      "execution_count": 3,
      "outputs": [
        {
          "output_type": "stream",
          "name": "stdout",
          "text": [
            "Downloading https://www.cs.toronto.edu/~kriz/cifar-10-python.tar.gz to ./data/cifar-10-python.tar.gz\n"
          ]
        },
        {
          "output_type": "stream",
          "name": "stderr",
          "text": [
            "100%|██████████| 170M/170M [00:02<00:00, 62.5MB/s]\n"
          ]
        },
        {
          "output_type": "stream",
          "name": "stdout",
          "text": [
            "Extracting ./data/cifar-10-python.tar.gz to ./data\n",
            "Files already downloaded and verified\n"
          ]
        }
      ]
    },
    {
      "cell_type": "code",
      "source": [
        "train_data"
      ],
      "metadata": {
        "colab": {
          "base_uri": "https://localhost:8080/"
        },
        "id": "TJGBZEobBdex",
        "outputId": "ed1536bc-47c6-41cb-a7c5-7db1c79253b8"
      },
      "execution_count": 4,
      "outputs": [
        {
          "output_type": "execute_result",
          "data": {
            "text/plain": [
              "Dataset CIFAR10\n",
              "    Number of datapoints: 50000\n",
              "    Root location: ./data\n",
              "    Split: Train\n",
              "    StandardTransform\n",
              "Transform: ToTensor()"
            ]
          },
          "metadata": {},
          "execution_count": 4
        }
      ]
    },
    {
      "cell_type": "code",
      "source": [
        "test_data"
      ],
      "metadata": {
        "colab": {
          "base_uri": "https://localhost:8080/"
        },
        "id": "a9kcR4feBdbw",
        "outputId": "142dda90-a3da-4736-d406-d65cf41dc0f0"
      },
      "execution_count": 5,
      "outputs": [
        {
          "output_type": "execute_result",
          "data": {
            "text/plain": [
              "Dataset CIFAR10\n",
              "    Number of datapoints: 10000\n",
              "    Root location: ./data\n",
              "    Split: Test\n",
              "    StandardTransform\n",
              "Transform: ToTensor()"
            ]
          },
          "metadata": {},
          "execution_count": 5
        }
      ]
    },
    {
      "cell_type": "code",
      "source": [
        "class_names = train_data.classes"
      ],
      "metadata": {
        "id": "IKb8ip53JcD-"
      },
      "execution_count": 22,
      "outputs": []
    },
    {
      "cell_type": "markdown",
      "source": [
        "## Data Exploration"
      ],
      "metadata": {
        "id": "NjulVQmOIB4W"
      }
    },
    {
      "cell_type": "code",
      "source": [
        "print(train_data[0][0].shape)\n",
        "sample_image=train_data[0][0]\n",
        "sample_tag=train_data[0][1]\n",
        "sample_image=sample_image.permute(1,2,0)\n",
        "plt.imshow(sample_image)\n",
        "plt.title(class_names[sample_tag])"
      ],
      "metadata": {
        "colab": {
          "base_uri": "https://localhost:8080/",
          "height": 488
        },
        "id": "tzhQoiBbBdY9",
        "outputId": "d36b8c50-4533-4e4b-a61e-a1bb2001e2cf"
      },
      "execution_count": 24,
      "outputs": [
        {
          "output_type": "stream",
          "name": "stdout",
          "text": [
            "torch.Size([3, 32, 32])\n"
          ]
        },
        {
          "output_type": "execute_result",
          "data": {
            "text/plain": [
              "Text(0.5, 1.0, 'frog')"
            ]
          },
          "metadata": {},
          "execution_count": 24
        },
        {
          "output_type": "display_data",
          "data": {
            "text/plain": [
              "<Figure size 640x480 with 1 Axes>"
            ],
            "image/png": "[encoded data removed]"
          },
          "metadata": {}
        }
      ]
    },
    {
      "cell_type": "code",
      "source": [
        "print(train_data[100][0].shape)\n",
        "sample_image=train_data[100][0]\n",
        "sample_tag=train_data[100][1]\n",
        "sample_image=sample_image.permute(1,2,0)\n",
        "plt.imshow(sample_image)\n",
        "plt.title(class_names[sample_tag])"
      ],
      "metadata": {
        "colab": {
          "base_uri": "https://localhost:8080/",
          "height": 488
        },
        "id": "fcMfK94IBdWL",
        "outputId": "1fc093d1-dcbe-4330-d3a1-47b0a8441a47"
      },
      "execution_count": 25,
      "outputs": [
        {
          "output_type": "stream",
          "name": "stdout",
          "text": [
            "torch.Size([3, 32, 32])\n"
          ]
        },
        {
          "output_type": "execute_result",
          "data": {
            "text/plain": [
              "Text(0.5, 1.0, 'ship')"
            ]
          },
          "metadata": {},
          "execution_count": 25
        },
        {
          "output_type": "display_data",
          "data": {
            "text/plain": [
              "<Figure size 640x480 with 1 Axes>"
            ],
            "image/png": "[encoded data removed]"
          },
          "metadata": {}
        }
      ]
    },
    {
      "cell_type": "code",
      "source": [
        "print(train_data[500][0].shape)\n",
        "sample_image=train_data[500][0]\n",
        "sample_tag=train_data[500][1]\n",
        "sample_image=sample_image.permute(1,2,0)\n",
        "plt.imshow(sample_image)\n",
        "plt.title(class_names[sample_tag])"
      ],
      "metadata": {
        "colab": {
          "base_uri": "https://localhost:8080/",
          "height": 488
        },
        "id": "EOObBidlBdTO",
        "outputId": "61b0f9be-6afa-47e9-b779-b9e9d557cb96"
      },
      "execution_count": 28,
      "outputs": [
        {
          "output_type": "stream",
          "name": "stdout",
          "text": [
            "torch.Size([3, 32, 32])\n"
          ]
        },
        {
          "output_type": "execute_result",
          "data": {
            "text/plain": [
              "Text(0.5, 1.0, 'dog')"
            ]
          },
          "metadata": {},
          "execution_count": 28
        },
        {
          "output_type": "display_data",
          "data": {
            "text/plain": [
              "<Figure size 640x480 with 1 Axes>"
            ],
            "image/png": "[encoded data removed]"
          },
          "metadata": {}
        }
      ]
    },
    {
      "cell_type": "code",
      "source": [
        "print(train_data[5000][0].shape)\n",
        "sample_image=train_data[5000][0]\n",
        "sample_tag=train_data[5000][1]\n",
        "sample_image=sample_image.permute(1,2,0)\n",
        "plt.imshow(sample_image)\n",
        "plt.title(class_names[sample_tag])"
      ],
      "metadata": {
        "colab": {
          "base_uri": "https://localhost:8080/",
          "height": 488
        },
        "id": "SVszwrzrBdQJ",
        "outputId": "b369f4b5-46b4-42d9-d785-bc37c37ecf8e"
      },
      "execution_count": 27,
      "outputs": [
        {
          "output_type": "stream",
          "name": "stdout",
          "text": [
            "torch.Size([3, 32, 32])\n"
          ]
        },
        {
          "output_type": "execute_result",
          "data": {
            "text/plain": [
              "Text(0.5, 1.0, 'frog')"
            ]
          },
          "metadata": {},
          "execution_count": 27
        },
        {
          "output_type": "display_data",
          "data": {
            "text/plain": [
              "<Figure size 640x480 with 1 Axes>"
            ],
            "image/png": "[encoded data removed]"
          },
          "metadata": {}
        }
      ]
    },
    {
      "cell_type": "markdown",
      "source": [
        "## Creating batches of datasets"
      ],
      "metadata": {
        "id": "7XYKOE1UMB6O"
      }
    },
    {
      "cell_type": "code",
      "source": [
        "## Creating a small batch size of 10\n",
        "train_loader=DataLoader(train_data,batch_size=10,shuffle=True)\n",
        "test_loader=DataLoader(test_data,batch_size=10, shuffle=False)"
      ],
      "metadata": {
        "id": "4HfIRmJQMHS1"
      },
      "execution_count": 29,
      "outputs": []
    },
    {
      "cell_type": "markdown",
      "source": [
        "## Defining the CNN Model"
      ],
      "metadata": {
        "id": "hvsKE9LzKYlk"
      }
    },
    {
      "cell_type": "code",
      "source": [
        "class Detector(nn.Module):\n",
        "  def __init__(self):\n",
        "    ## Conv Layers\n",
        "    self.conv1=nn.Conv3d(in_channels=3,out_channels=10,kernel_size=3,stride=1)\n",
        "    self.conv2=nn.Conv3d(in_channels=10,out_channels=20,kernel_size=3,stride=1)\n",
        "    self.conv3=nn.Conv3d(in_channels=20,out_channels=40,kernel_size=3,stride=1)\n",
        "\n",
        "    ## Fully Connected Layers\n",
        "    self.fc1=nn.Linear(2*2*40,80)\n",
        "    self.fc2=nn.Linear(80,40)\n",
        "    self.fc3=nn.Linear(40,10)\n",
        "\n",
        "\n",
        "  def forward(self,X):\n",
        "    # ReLU activation function and Max Pooling layer\n",
        "    X=F.relu(self.conv1(X))\n",
        "    X=F.max_pool3d(X,kernel_size=2,stride=2)\n",
        "    X=F.relu(self.conv2(X))\n",
        "    X=F.max_pool3d(X,kernel_size=2,stride=2)\n",
        "    X=F.relu(self.conv3(X))\n",
        "    X=F.max_pool3d(X,kernel_size=2,stride=2)\n",
        "\n",
        "    # Flattening\n",
        "    X=X.view(-1,2*2*40)\n",
        "\n",
        "    ## ANN layers\n",
        "    X=F.relu(self.fc1(X))\n",
        "    X=F.relu(self.fc2(X))\n",
        "    X=self.fc3(X)\n",
        "\n",
        "    # retunrn the value using log softmax function\n",
        "    return F.log_softmax(X,dim=1)\n",
        "\n"
      ],
      "metadata": {
        "id": "UO-frmePBdNc"
      },
      "execution_count": null,
      "outputs": []
    },
    {
      "cell_type": "code",
      "source": [],
      "metadata": {
        "id": "c_tZZAcwKgtq"
      },
      "execution_count": null,
      "outputs": []
    },
    {
      "cell_type": "code",
      "source": [],
      "metadata": {
        "id": "2fYvy96XKgqL"
      },
      "execution_count": null,
      "outputs": []
    },
    {
      "cell_type": "code",
      "source": [],
      "metadata": {
        "id": "AiG6wkRuKgne"
      },
      "execution_count": null,
      "outputs": []
    },
    {
      "cell_type": "code",
      "source": [],
      "metadata": {
        "id": "r6Jx6Is_Kgkz"
      },
      "execution_count": null,
      "outputs": []
    },
    {
      "cell_type": "code",
      "source": [],
      "metadata": {
        "id": "Kv2haDHfKgiE"
      },
      "execution_count": null,
      "outputs": []
    },
    {
      "cell_type": "code",
      "source": [],
      "metadata": {
        "id": "IvypS_GDKgfD"
      },
      "execution_count": null,
      "outputs": []
    },
    {
      "cell_type": "code",
      "source": [],
      "metadata": {
        "id": "GGTHTaFjKgcW"
      },
      "execution_count": null,
      "outputs": []
    },
    {
      "cell_type": "code",
      "source": [],
      "metadata": {
        "id": "rLyBW9duJKMG"
      },
      "execution_count": null,
      "outputs": []
    }
  ]
}